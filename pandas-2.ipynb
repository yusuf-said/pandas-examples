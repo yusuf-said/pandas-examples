{
 "cells": [
  {
   "cell_type": "markdown",
   "id": "d6636c3a-3d6e-4cca-b1b1-e98b1da7b898",
   "metadata": {},
   "source": [
    "**BU DOSYA VERİ TEMİZLEME, DÜZENLEME, FİLTRELEME İŞLEMLERİNİ İÇERİYOR.**"
   ]
  },
  {
   "cell_type": "markdown",
   "id": "2873318b-7333-4191-a8b2-c7b90fff3589",
   "metadata": {},
   "source": [
    "dataset linki: https://www.kaggle.com/datasets/flynn28/1926-2024-nfl-scores **2024 kullanıldı**"
   ]
  },
  {
   "cell_type": "code",
   "execution_count": 50,
   "id": "bb7114f2-a1a4-4089-bf33-230b0f4c4018",
   "metadata": {},
   "outputs": [],
   "source": [
    "import numpy as np\n",
    "import pandas as pd"
   ]
  },
  {
   "cell_type": "code",
   "execution_count": 51,
   "id": "641b5c35-c74f-47ef-a10c-732db5455b85",
   "metadata": {},
   "outputs": [],
   "source": [
    "#verinin içeri aktarılması\n",
    "\n",
    "df = pd.read_csv('data/2024_NFL_SCORES.csv') \n"
   ]
  },
  {
   "cell_type": "code",
   "execution_count": 52,
   "id": "e717d03e-1fa3-49be-b027-d0b7723778aa",
   "metadata": {
    "scrolled": true
   },
   "outputs": [
    {
     "name": "stdout",
     "output_type": "stream",
     "text": [
      "(286, 8)\n",
      "              WTS         LTS  Season\n",
      "count  285.000000  285.000000   286.0\n",
      "mean    28.659649   17.357895  2024.0\n",
      "std      8.374590    7.761292     0.0\n",
      "min      6.000000    0.000000  2024.0\n",
      "25%     23.000000   12.000000  2024.0\n",
      "50%     28.000000   17.000000  2024.0\n",
      "75%     34.000000   22.000000  2024.0\n",
      "max     55.000000   42.000000  2024.0\n"
     ]
    }
   ],
   "source": [
    "df.head()\n",
    "\n",
    "print(df.shape)\n",
    "\n",
    "print(df.describe())"
   ]
  },
  {
   "cell_type": "code",
   "execution_count": 53,
   "id": "7733fc98-fb6a-438b-a495-9a7747fa337d",
   "metadata": {},
   "outputs": [
    {
     "data": {
      "text/plain": [
       "Date      0\n",
       "DOW       1\n",
       "WT        1\n",
       "LT        1\n",
       "WTS       1\n",
       "LTS       1\n",
       "Type      0\n",
       "Season    0\n",
       "dtype: int64"
      ]
     },
     "execution_count": 53,
     "metadata": {},
     "output_type": "execute_result"
    }
   ],
   "source": [
    "\n",
    "##missing value\n",
    "missing_values = df.isnull().sum()\n",
    "\n",
    "missing_values"
   ]
  },
  {
   "cell_type": "code",
   "execution_count": 54,
   "id": "71835bfc-6c09-4cb4-8c7b-2f4633ffc09c",
   "metadata": {},
   "outputs": [],
   "source": [
    "##bostaki değerler frekansa göre dolduruldu ###tavsiye edilmez\n",
    "df['DOW'] = df['DOW'].replace(to_replace=np.nan, value=df['DOW'].value_counts().idxmax())\n",
    "df['WT'] = df['WT'].replace(to_replace=np.nan, value=df['WT'].value_counts().idxmax())\n",
    "df['WTS'] = df['WTS'].replace(to_replace=np.nan, value=df['WTS'].value_counts().idxmax())\n",
    "df['LTS'] = df['LTS'].replace(to_replace=np.nan, value=df['LTS'].value_counts().idxmax())\n",
    "df['LT'] = df['LT'].replace(to_replace=np.nan, value=df['LT'].value_counts().idxmax())\n",
    "\n",
    "\n",
    "\n"
   ]
  },
  {
   "cell_type": "code",
   "execution_count": 55,
   "id": "110e2c83-498a-437c-8699-a2ace44a2d93",
   "metadata": {},
   "outputs": [
    {
     "data": {
      "text/plain": [
       "Date      0\n",
       "DOW       0\n",
       "WT        0\n",
       "LT        0\n",
       "WTS       0\n",
       "LTS       0\n",
       "Type      0\n",
       "Season    0\n",
       "dtype: int64"
      ]
     },
     "execution_count": 55,
     "metadata": {},
     "output_type": "execute_result"
    }
   ],
   "source": [
    "missing_values = df.isnull().sum()\n",
    "\n",
    "missing_values"
   ]
  },
  {
   "cell_type": "code",
   "execution_count": 56,
   "id": "4108780f-c024-4d24-92d7-6a8d63432acd",
   "metadata": {
    "scrolled": true
   },
   "outputs": [
    {
     "name": "stdout",
     "output_type": "stream",
     "text": [
      "['Regular Season' 'Playoff']\n"
     ]
    }
   ],
   "source": [
    "print(df['Type'].unique())"
   ]
  },
  {
   "cell_type": "code",
   "execution_count": 57,
   "id": "7e030bb2-7b7d-43b4-bfbc-b34adbe737e4",
   "metadata": {},
   "outputs": [
    {
     "data": {
      "text/plain": [
       "array([2024])"
      ]
     },
     "execution_count": 57,
     "metadata": {},
     "output_type": "execute_result"
    }
   ],
   "source": [
    "df['Season'].unique()"
   ]
  },
  {
   "cell_type": "code",
   "execution_count": 58,
   "id": "dc855110-2fea-4dc4-8107-1d3b9d93247b",
   "metadata": {},
   "outputs": [],
   "source": [
    "#günler sayılara göre değiştirildi\n",
    "day_mapping = {\n",
    "    \"Mon\": 0, \"Tue\": 1, \"Wed\": 2, \"Thu\": 3, \"Fri\": 4, \"Sat\": 5, \"Sun\": 6\n",
    "}\n",
    "\n",
    "df[\"DOW_Encoded\"] = df[\"DOW\"].map(day_mapping).astype(int)\n",
    "\n",
    "df.head()\n",
    "\n",
    "#ve gün satırı atıldı\n",
    "df.drop(\n",
    "    columns='Season',\n",
    "    axis=1,\n",
    "    inplace=True)\n"
   ]
  },
  {
   "cell_type": "code",
   "execution_count": 59,
   "id": "4bc9c738-16e0-4c4d-9e72-47dad5dd58cc",
   "metadata": {},
   "outputs": [
    {
     "data": {
      "text/html": [
       "<div>\n",
       "<style scoped>\n",
       "    .dataframe tbody tr th:only-of-type {\n",
       "        vertical-align: middle;\n",
       "    }\n",
       "\n",
       "    .dataframe tbody tr th {\n",
       "        vertical-align: top;\n",
       "    }\n",
       "\n",
       "    .dataframe thead th {\n",
       "        text-align: right;\n",
       "    }\n",
       "</style>\n",
       "<table border=\"1\" class=\"dataframe\">\n",
       "  <thead>\n",
       "    <tr style=\"text-align: right;\">\n",
       "      <th></th>\n",
       "      <th>Date</th>\n",
       "      <th>DOW</th>\n",
       "      <th>WT</th>\n",
       "      <th>LT</th>\n",
       "      <th>WTS</th>\n",
       "      <th>LTS</th>\n",
       "      <th>Type</th>\n",
       "      <th>DOW_Encoded</th>\n",
       "    </tr>\n",
       "  </thead>\n",
       "  <tbody>\n",
       "    <tr>\n",
       "      <th>0</th>\n",
       "      <td>2024-09-05</td>\n",
       "      <td>Thu</td>\n",
       "      <td>Kansas City Chiefs</td>\n",
       "      <td>Baltimore Ravens</td>\n",
       "      <td>27.0</td>\n",
       "      <td>20.0</td>\n",
       "      <td>Regular Season</td>\n",
       "      <td>3</td>\n",
       "    </tr>\n",
       "    <tr>\n",
       "      <th>1</th>\n",
       "      <td>2024-09-06</td>\n",
       "      <td>Fri</td>\n",
       "      <td>Philadelphia Eagles</td>\n",
       "      <td>Green Bay Packers</td>\n",
       "      <td>34.0</td>\n",
       "      <td>29.0</td>\n",
       "      <td>Regular Season</td>\n",
       "      <td>4</td>\n",
       "    </tr>\n",
       "    <tr>\n",
       "      <th>2</th>\n",
       "      <td>2024-09-08</td>\n",
       "      <td>Sun</td>\n",
       "      <td>Pittsburgh Steelers</td>\n",
       "      <td>Atlanta Falcons</td>\n",
       "      <td>18.0</td>\n",
       "      <td>10.0</td>\n",
       "      <td>Regular Season</td>\n",
       "      <td>6</td>\n",
       "    </tr>\n",
       "    <tr>\n",
       "      <th>3</th>\n",
       "      <td>2024-09-08</td>\n",
       "      <td>Sun</td>\n",
       "      <td>Buffalo Bills</td>\n",
       "      <td>Arizona Cardinals</td>\n",
       "      <td>34.0</td>\n",
       "      <td>28.0</td>\n",
       "      <td>Regular Season</td>\n",
       "      <td>6</td>\n",
       "    </tr>\n",
       "    <tr>\n",
       "      <th>4</th>\n",
       "      <td>2024-09-08</td>\n",
       "      <td>Sun</td>\n",
       "      <td>New Orleans Saints</td>\n",
       "      <td>Carolina Panthers</td>\n",
       "      <td>47.0</td>\n",
       "      <td>10.0</td>\n",
       "      <td>Regular Season</td>\n",
       "      <td>6</td>\n",
       "    </tr>\n",
       "  </tbody>\n",
       "</table>\n",
       "</div>"
      ],
      "text/plain": [
       "         Date  DOW                   WT                 LT   WTS   LTS  \\\n",
       "0  2024-09-05  Thu   Kansas City Chiefs   Baltimore Ravens  27.0  20.0   \n",
       "1  2024-09-06  Fri  Philadelphia Eagles  Green Bay Packers  34.0  29.0   \n",
       "2  2024-09-08  Sun  Pittsburgh Steelers    Atlanta Falcons  18.0  10.0   \n",
       "3  2024-09-08  Sun        Buffalo Bills  Arizona Cardinals  34.0  28.0   \n",
       "4  2024-09-08  Sun   New Orleans Saints  Carolina Panthers  47.0  10.0   \n",
       "\n",
       "             Type  DOW_Encoded  \n",
       "0  Regular Season            3  \n",
       "1  Regular Season            4  \n",
       "2  Regular Season            6  \n",
       "3  Regular Season            6  \n",
       "4  Regular Season            6  "
      ]
     },
     "execution_count": 59,
     "metadata": {},
     "output_type": "execute_result"
    }
   ],
   "source": [
    "df.head()"
   ]
  },
  {
   "cell_type": "code",
   "execution_count": 60,
   "id": "807d42a8-31c4-482d-841a-74e188fd25f1",
   "metadata": {},
   "outputs": [],
   "source": [
    "###kazanan takıma ait sütun olarak yazılması\n",
    "df[\"Winner\"] = df.apply(lambda row: row[\"WT\"] if row[\"WTS\"] > row[\"LTS\"] else row[\"LT\"], axis=1)"
   ]
  },
  {
   "cell_type": "code",
   "execution_count": 61,
   "id": "ab818f29-da1a-4313-9f50-c8a6a76515d8",
   "metadata": {},
   "outputs": [
    {
     "data": {
      "text/html": [
       "<div>\n",
       "<style scoped>\n",
       "    .dataframe tbody tr th:only-of-type {\n",
       "        vertical-align: middle;\n",
       "    }\n",
       "\n",
       "    .dataframe tbody tr th {\n",
       "        vertical-align: top;\n",
       "    }\n",
       "\n",
       "    .dataframe thead th {\n",
       "        text-align: right;\n",
       "    }\n",
       "</style>\n",
       "<table border=\"1\" class=\"dataframe\">\n",
       "  <thead>\n",
       "    <tr style=\"text-align: right;\">\n",
       "      <th></th>\n",
       "      <th>Date</th>\n",
       "      <th>DOW</th>\n",
       "      <th>WT</th>\n",
       "      <th>LT</th>\n",
       "      <th>WTS</th>\n",
       "      <th>LTS</th>\n",
       "      <th>Type</th>\n",
       "      <th>DOW_Encoded</th>\n",
       "      <th>Winner</th>\n",
       "    </tr>\n",
       "  </thead>\n",
       "  <tbody>\n",
       "    <tr>\n",
       "      <th>0</th>\n",
       "      <td>2024-09-05</td>\n",
       "      <td>Thu</td>\n",
       "      <td>Kansas City Chiefs</td>\n",
       "      <td>Baltimore Ravens</td>\n",
       "      <td>27.0</td>\n",
       "      <td>20.0</td>\n",
       "      <td>Regular Season</td>\n",
       "      <td>3</td>\n",
       "      <td>Kansas City Chiefs</td>\n",
       "    </tr>\n",
       "    <tr>\n",
       "      <th>1</th>\n",
       "      <td>2024-09-06</td>\n",
       "      <td>Fri</td>\n",
       "      <td>Philadelphia Eagles</td>\n",
       "      <td>Green Bay Packers</td>\n",
       "      <td>34.0</td>\n",
       "      <td>29.0</td>\n",
       "      <td>Regular Season</td>\n",
       "      <td>4</td>\n",
       "      <td>Philadelphia Eagles</td>\n",
       "    </tr>\n",
       "    <tr>\n",
       "      <th>2</th>\n",
       "      <td>2024-09-08</td>\n",
       "      <td>Sun</td>\n",
       "      <td>Pittsburgh Steelers</td>\n",
       "      <td>Atlanta Falcons</td>\n",
       "      <td>18.0</td>\n",
       "      <td>10.0</td>\n",
       "      <td>Regular Season</td>\n",
       "      <td>6</td>\n",
       "      <td>Pittsburgh Steelers</td>\n",
       "    </tr>\n",
       "    <tr>\n",
       "      <th>3</th>\n",
       "      <td>2024-09-08</td>\n",
       "      <td>Sun</td>\n",
       "      <td>Buffalo Bills</td>\n",
       "      <td>Arizona Cardinals</td>\n",
       "      <td>34.0</td>\n",
       "      <td>28.0</td>\n",
       "      <td>Regular Season</td>\n",
       "      <td>6</td>\n",
       "      <td>Buffalo Bills</td>\n",
       "    </tr>\n",
       "    <tr>\n",
       "      <th>4</th>\n",
       "      <td>2024-09-08</td>\n",
       "      <td>Sun</td>\n",
       "      <td>New Orleans Saints</td>\n",
       "      <td>Carolina Panthers</td>\n",
       "      <td>47.0</td>\n",
       "      <td>10.0</td>\n",
       "      <td>Regular Season</td>\n",
       "      <td>6</td>\n",
       "      <td>New Orleans Saints</td>\n",
       "    </tr>\n",
       "  </tbody>\n",
       "</table>\n",
       "</div>"
      ],
      "text/plain": [
       "         Date  DOW                   WT                 LT   WTS   LTS  \\\n",
       "0  2024-09-05  Thu   Kansas City Chiefs   Baltimore Ravens  27.0  20.0   \n",
       "1  2024-09-06  Fri  Philadelphia Eagles  Green Bay Packers  34.0  29.0   \n",
       "2  2024-09-08  Sun  Pittsburgh Steelers    Atlanta Falcons  18.0  10.0   \n",
       "3  2024-09-08  Sun        Buffalo Bills  Arizona Cardinals  34.0  28.0   \n",
       "4  2024-09-08  Sun   New Orleans Saints  Carolina Panthers  47.0  10.0   \n",
       "\n",
       "             Type  DOW_Encoded               Winner  \n",
       "0  Regular Season            3   Kansas City Chiefs  \n",
       "1  Regular Season            4  Philadelphia Eagles  \n",
       "2  Regular Season            6  Pittsburgh Steelers  \n",
       "3  Regular Season            6        Buffalo Bills  \n",
       "4  Regular Season            6   New Orleans Saints  "
      ]
     },
     "execution_count": 61,
     "metadata": {},
     "output_type": "execute_result"
    }
   ],
   "source": [
    "df.head()"
   ]
  },
  {
   "cell_type": "code",
   "execution_count": 62,
   "id": "b19066cc-7784-4b75-9283-2481eb9f867d",
   "metadata": {},
   "outputs": [
    {
     "data": {
      "text/plain": [
       "Winner\n",
       "Kansas City Chiefs       15\n",
       "Detroit Lions            15\n",
       "Minnesota Vikings        14\n",
       "Philadelphia Eagles      14\n",
       "Buffalo Bills            13\n",
       "Washington Commanders    12\n",
       "Baltimore Ravens         12\n",
       "Los Angeles Chargers     11\n",
       "Green Bay Packers        11\n",
       "Tampa Bay Buccaneers     10\n",
       "Houston Texans           10\n",
       "Los Angeles Rams         10\n",
       "Denver Broncos           10\n",
       "Seattle Seahawks         10\n",
       "Pittsburgh Steelers      10\n",
       "Cincinnati Bengals        9\n",
       "Indianapolis Colts        8\n",
       "Miami Dolphins            8\n",
       "Atlanta Falcons           8\n",
       "Arizona Cardinals         8\n",
       "Dallas Cowboys            7\n",
       "San Francisco 49ers       6\n",
       "New Orleans Saints        5\n",
       "Chicago Bears             5\n",
       "New York Jets             5\n",
       "Carolina Panthers         5\n",
       "New England Patriots      4\n",
       "Las Vegas Raiders         4\n",
       "Jacksonville Jaguars      4\n",
       "Cleveland Browns          3\n",
       "New York Giants           3\n",
       "Tennessee Titans          3\n",
       "Name: count, dtype: int64"
      ]
     },
     "execution_count": 62,
     "metadata": {},
     "output_type": "execute_result"
    }
   ],
   "source": [
    "### regular sezonda en cok kazananları göster\n",
    "\n",
    "regular_season_df = df[df[\"Type\"] == \"Regular Season\"]\n",
    "win_counts = regular_season_df[\"Winner\"].value_counts()\n",
    "win_counts"
   ]
  },
  {
   "cell_type": "code",
   "execution_count": 64,
   "id": "461cbba8-f074-4c15-a393-138c9e190511",
   "metadata": {},
   "outputs": [
    {
     "data": {
      "text/plain": [
       "DOW\n",
       "Sun    221\n",
       "Mon     21\n",
       "Thu     19\n",
       "Sat      7\n",
       "Fri      2\n",
       "Wed      2\n",
       "Name: count, dtype: int64"
      ]
     },
     "execution_count": 64,
     "metadata": {},
     "output_type": "execute_result"
    }
   ],
   "source": [
    "###hangiregular seszonda günlşerde ne kadar maç yapılmış\n",
    "regular_season_df = df[df[\"Type\"] == \"Regular Season\"]\n",
    "day = regular_season_df['DOW'].value_counts()\n",
    "\n",
    "day"
   ]
  },
  {
   "cell_type": "code",
   "execution_count": 65,
   "id": "f00b9074-9fea-4d1c-b911-476d45bc8b92",
   "metadata": {},
   "outputs": [
    {
     "data": {
      "text/html": [
       "<div>\n",
       "<style scoped>\n",
       "    .dataframe tbody tr th:only-of-type {\n",
       "        vertical-align: middle;\n",
       "    }\n",
       "\n",
       "    .dataframe tbody tr th {\n",
       "        vertical-align: top;\n",
       "    }\n",
       "\n",
       "    .dataframe thead th {\n",
       "        text-align: right;\n",
       "    }\n",
       "</style>\n",
       "<table border=\"1\" class=\"dataframe\">\n",
       "  <thead>\n",
       "    <tr style=\"text-align: right;\">\n",
       "      <th></th>\n",
       "      <th>Date</th>\n",
       "      <th>DOW</th>\n",
       "      <th>WT</th>\n",
       "      <th>LT</th>\n",
       "      <th>WTS</th>\n",
       "      <th>LTS</th>\n",
       "      <th>Type</th>\n",
       "      <th>DOW_Encoded</th>\n",
       "      <th>Winner</th>\n",
       "      <th>Score_Max</th>\n",
       "    </tr>\n",
       "  </thead>\n",
       "  <tbody>\n",
       "    <tr>\n",
       "      <th>155</th>\n",
       "      <td>2024-11-17</td>\n",
       "      <td>Sun</td>\n",
       "      <td>Detroit Lions</td>\n",
       "      <td>Jacksonville Jaguars</td>\n",
       "      <td>52.0</td>\n",
       "      <td>6.0</td>\n",
       "      <td>Regular Season</td>\n",
       "      <td>6</td>\n",
       "      <td>Detroit Lions</td>\n",
       "      <td>46.0</td>\n",
       "    </tr>\n",
       "    <tr>\n",
       "      <th>89</th>\n",
       "      <td>2024-10-13</td>\n",
       "      <td>Sun</td>\n",
       "      <td>Detroit Lions</td>\n",
       "      <td>Dallas Cowboys</td>\n",
       "      <td>47.0</td>\n",
       "      <td>9.0</td>\n",
       "      <td>Regular Season</td>\n",
       "      <td>6</td>\n",
       "      <td>Detroit Lions</td>\n",
       "      <td>38.0</td>\n",
       "    </tr>\n",
       "    <tr>\n",
       "      <th>108</th>\n",
       "      <td>2024-10-27</td>\n",
       "      <td>Sun</td>\n",
       "      <td>Detroit Lions</td>\n",
       "      <td>Tennessee Titans</td>\n",
       "      <td>52.0</td>\n",
       "      <td>14.0</td>\n",
       "      <td>Regular Season</td>\n",
       "      <td>6</td>\n",
       "      <td>Detroit Lions</td>\n",
       "      <td>38.0</td>\n",
       "    </tr>\n",
       "    <tr>\n",
       "      <th>267</th>\n",
       "      <td>2025-01-05</td>\n",
       "      <td>Sun</td>\n",
       "      <td>Denver Broncos</td>\n",
       "      <td>Kansas City Chiefs</td>\n",
       "      <td>38.0</td>\n",
       "      <td>0.0</td>\n",
       "      <td>Regular Season</td>\n",
       "      <td>6</td>\n",
       "      <td>Denver Broncos</td>\n",
       "      <td>38.0</td>\n",
       "    </tr>\n",
       "    <tr>\n",
       "      <th>4</th>\n",
       "      <td>2024-09-08</td>\n",
       "      <td>Sun</td>\n",
       "      <td>New Orleans Saints</td>\n",
       "      <td>Carolina Panthers</td>\n",
       "      <td>47.0</td>\n",
       "      <td>10.0</td>\n",
       "      <td>Regular Season</td>\n",
       "      <td>6</td>\n",
       "      <td>New Orleans Saints</td>\n",
       "      <td>37.0</td>\n",
       "    </tr>\n",
       "    <tr>\n",
       "      <th>46</th>\n",
       "      <td>2024-09-23</td>\n",
       "      <td>Mon</td>\n",
       "      <td>Buffalo Bills</td>\n",
       "      <td>Jacksonville Jaguars</td>\n",
       "      <td>47.0</td>\n",
       "      <td>10.0</td>\n",
       "      <td>Regular Season</td>\n",
       "      <td>0</td>\n",
       "      <td>Buffalo Bills</td>\n",
       "      <td>37.0</td>\n",
       "    </tr>\n",
       "    <tr>\n",
       "      <th>239</th>\n",
       "      <td>2024-12-23</td>\n",
       "      <td>Mon</td>\n",
       "      <td>Green Bay Packers</td>\n",
       "      <td>New Orleans Saints</td>\n",
       "      <td>34.0</td>\n",
       "      <td>0.0</td>\n",
       "      <td>Regular Season</td>\n",
       "      <td>0</td>\n",
       "      <td>Green Bay Packers</td>\n",
       "      <td>34.0</td>\n",
       "    </tr>\n",
       "    <tr>\n",
       "      <th>247</th>\n",
       "      <td>2024-12-29</td>\n",
       "      <td>Sun</td>\n",
       "      <td>Tampa Bay Buccaneers</td>\n",
       "      <td>Carolina Panthers</td>\n",
       "      <td>48.0</td>\n",
       "      <td>14.0</td>\n",
       "      <td>Regular Season</td>\n",
       "      <td>6</td>\n",
       "      <td>Tampa Bay Buccaneers</td>\n",
       "      <td>34.0</td>\n",
       "    </tr>\n",
       "    <tr>\n",
       "      <th>249</th>\n",
       "      <td>2024-12-29</td>\n",
       "      <td>Sun</td>\n",
       "      <td>Philadelphia Eagles</td>\n",
       "      <td>Dallas Cowboys</td>\n",
       "      <td>41.0</td>\n",
       "      <td>7.0</td>\n",
       "      <td>Regular Season</td>\n",
       "      <td>6</td>\n",
       "      <td>Philadelphia Eagles</td>\n",
       "      <td>34.0</td>\n",
       "    </tr>\n",
       "    <tr>\n",
       "      <th>101</th>\n",
       "      <td>2024-10-20</td>\n",
       "      <td>Sun</td>\n",
       "      <td>Washington Commanders</td>\n",
       "      <td>Carolina Panthers</td>\n",
       "      <td>40.0</td>\n",
       "      <td>7.0</td>\n",
       "      <td>Regular Season</td>\n",
       "      <td>6</td>\n",
       "      <td>Washington Commanders</td>\n",
       "      <td>33.0</td>\n",
       "    </tr>\n",
       "  </tbody>\n",
       "</table>\n",
       "</div>"
      ],
      "text/plain": [
       "           Date  DOW                     WT                    LT   WTS   LTS  \\\n",
       "155  2024-11-17  Sun          Detroit Lions  Jacksonville Jaguars  52.0   6.0   \n",
       "89   2024-10-13  Sun          Detroit Lions        Dallas Cowboys  47.0   9.0   \n",
       "108  2024-10-27  Sun          Detroit Lions      Tennessee Titans  52.0  14.0   \n",
       "267  2025-01-05  Sun         Denver Broncos    Kansas City Chiefs  38.0   0.0   \n",
       "4    2024-09-08  Sun     New Orleans Saints     Carolina Panthers  47.0  10.0   \n",
       "46   2024-09-23  Mon          Buffalo Bills  Jacksonville Jaguars  47.0  10.0   \n",
       "239  2024-12-23  Mon      Green Bay Packers    New Orleans Saints  34.0   0.0   \n",
       "247  2024-12-29  Sun   Tampa Bay Buccaneers     Carolina Panthers  48.0  14.0   \n",
       "249  2024-12-29  Sun    Philadelphia Eagles        Dallas Cowboys  41.0   7.0   \n",
       "101  2024-10-20  Sun  Washington Commanders     Carolina Panthers  40.0   7.0   \n",
       "\n",
       "               Type  DOW_Encoded                 Winner  Score_Max  \n",
       "155  Regular Season            6          Detroit Lions       46.0  \n",
       "89   Regular Season            6          Detroit Lions       38.0  \n",
       "108  Regular Season            6          Detroit Lions       38.0  \n",
       "267  Regular Season            6         Denver Broncos       38.0  \n",
       "4    Regular Season            6     New Orleans Saints       37.0  \n",
       "46   Regular Season            0          Buffalo Bills       37.0  \n",
       "239  Regular Season            0      Green Bay Packers       34.0  \n",
       "247  Regular Season            6   Tampa Bay Buccaneers       34.0  \n",
       "249  Regular Season            6    Philadelphia Eagles       34.0  \n",
       "101  Regular Season            6  Washington Commanders       33.0  "
      ]
     },
     "execution_count": 65,
     "metadata": {},
     "output_type": "execute_result"
    }
   ],
   "source": [
    "###en farklı kazanılan 10 mac gösterme\n",
    "\n",
    "df[\"Score_Max\"] = abs(df[\"WTS\"] - df[\"LTS\"])\n",
    "\n",
    "\n",
    "top_10_margin_games = df.nlargest(10, \"Score_Max\")\n",
    "top_10_margin_games"
   ]
  }
 ],
 "metadata": {
  "kernelspec": {
   "display_name": "Python 3 (ipykernel)",
   "language": "python",
   "name": "python3"
  },
  "language_info": {
   "codemirror_mode": {
    "name": "ipython",
    "version": 3
   },
   "file_extension": ".py",
   "mimetype": "text/x-python",
   "name": "python",
   "nbconvert_exporter": "python",
   "pygments_lexer": "ipython3",
   "version": "3.13.2"
  }
 },
 "nbformat": 4,
 "nbformat_minor": 5
}
