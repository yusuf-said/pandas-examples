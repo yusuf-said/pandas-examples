{
 "cells": [
  {
   "cell_type": "code",
   "execution_count": 86,
   "metadata": {},
   "outputs": [],
   "source": [
    "import pandas as pd"
   ]
  },
  {
   "cell_type": "code",
   "execution_count": 87,
   "metadata": {},
   "outputs": [],
   "source": [
    "df = pd.read_csv('/home/yusuf/Masaüstü/pandas-examples/data/USvideos.csv')"
   ]
  },
  {
   "cell_type": "code",
   "execution_count": 88,
   "metadata": {},
   "outputs": [
    {
     "data": {
      "text/plain": [
       "6055"
      ]
     },
     "execution_count": 88,
     "metadata": {},
     "output_type": "execute_result"
    }
   ],
   "source": [
    "df['tags'].nunique()"
   ]
  },
  {
   "cell_type": "code",
   "execution_count": 102,
   "metadata": {},
   "outputs": [],
   "source": [
    "df2 = df.groupby('title')[['views']].sum()\n",
    "\n",
    "\n",
    "df2.reset_index(inplace=True)"
   ]
  },
  {
   "cell_type": "code",
   "execution_count": 103,
   "metadata": {},
   "outputs": [
    {
     "data": {
      "text/plain": [
       "title    6455\n",
       "views    6452\n",
       "dtype: int64"
      ]
     },
     "execution_count": 103,
     "metadata": {},
     "output_type": "execute_result"
    }
   ],
   "source": [
    "df2.nunique()"
   ]
  },
  {
   "cell_type": "code",
   "execution_count": 104,
   "id": "e8b36754",
   "metadata": {},
   "outputs": [
    {
     "data": {
      "text/plain": [
       "(6455, 2)"
      ]
     },
     "execution_count": 104,
     "metadata": {},
     "output_type": "execute_result"
    }
   ],
   "source": [
    "df2.shape"
   ]
  },
  {
   "cell_type": "code",
   "execution_count": 105,
   "id": "6dbb188f",
   "metadata": {},
   "outputs": [
    {
     "data": {
      "text/plain": [
       "Index(['title', 'views'], dtype='object')"
      ]
     },
     "execution_count": 105,
     "metadata": {},
     "output_type": "execute_result"
    }
   ],
   "source": [
    "df2.columns"
   ]
  },
  {
   "cell_type": "code",
   "execution_count": 106,
   "id": "7efa7fdb",
   "metadata": {},
   "outputs": [],
   "source": [
    "#bir videoda kac tag var onu hesaplayalım\n",
    "def tag_counter(x):\n",
    "    return len(x.split('|'))\n",
    "\n",
    "\n"
   ]
  },
  {
   "cell_type": "code",
   "execution_count": 94,
   "id": "5a493dbc",
   "metadata": {},
   "outputs": [
    {
     "data": {
      "text/plain": [
       "(40949, 17)"
      ]
     },
     "execution_count": 94,
     "metadata": {},
     "output_type": "execute_result"
    }
   ],
   "source": [
    "df.shape"
   ]
  },
  {
   "cell_type": "code",
   "execution_count": 98,
   "id": "7d8eb258",
   "metadata": {},
   "outputs": [],
   "source": [
    "df_drop = df.drop_duplicates(['title',])"
   ]
  },
  {
   "cell_type": "code",
   "execution_count": 127,
   "id": "365fa9ae",
   "metadata": {},
   "outputs": [],
   "source": [
    "df3 = df_drop.drop('views',axis=1)"
   ]
  },
  {
   "cell_type": "code",
   "execution_count": 116,
   "id": "2d10bf48",
   "metadata": {},
   "outputs": [],
   "source": [
    "df_drop.loc[:,'tags_count'] = df_drop['tags'].apply(tag_counter)"
   ]
  },
  {
   "cell_type": "code",
   "execution_count": 118,
   "id": "e6773fd3",
   "metadata": {},
   "outputs": [
    {
     "data": {
      "text/plain": [
       "0         1\n",
       "1         4\n",
       "2        23\n",
       "3        27\n",
       "4        14\n",
       "         ..\n",
       "40760    21\n",
       "40761    31\n",
       "40762    28\n",
       "40764    26\n",
       "40766    25\n",
       "Name: tags_count, Length: 6455, dtype: int64"
      ]
     },
     "execution_count": 118,
     "metadata": {},
     "output_type": "execute_result"
    }
   ],
   "source": [
    "df_drop.tags_count"
   ]
  },
  {
   "cell_type": "code",
   "execution_count": 119,
   "id": "9bfd986d",
   "metadata": {},
   "outputs": [
    {
     "data": {
      "text/plain": [
       "(6455, 2)"
      ]
     },
     "execution_count": 119,
     "metadata": {},
     "output_type": "execute_result"
    }
   ],
   "source": [
    "df2.shape"
   ]
  },
  {
   "cell_type": "code",
   "execution_count": 128,
   "id": "5901984c",
   "metadata": {},
   "outputs": [],
   "source": [
    "df_merge = df2.merge(df3)"
   ]
  },
  {
   "cell_type": "code",
   "execution_count": 129,
   "id": "71fc6468",
   "metadata": {},
   "outputs": [
    {
     "data": {
      "text/plain": [
       "(6455, 17)"
      ]
     },
     "execution_count": 129,
     "metadata": {},
     "output_type": "execute_result"
    }
   ],
   "source": [
    "df_merge.shape"
   ]
  },
  {
   "cell_type": "code",
   "execution_count": 131,
   "id": "29daada7",
   "metadata": {},
   "outputs": [
    {
     "data": {
      "text/html": [
       "<div>\n",
       "<style scoped>\n",
       "    .dataframe tbody tr th:only-of-type {\n",
       "        vertical-align: middle;\n",
       "    }\n",
       "\n",
       "    .dataframe tbody tr th {\n",
       "        vertical-align: top;\n",
       "    }\n",
       "\n",
       "    .dataframe thead th {\n",
       "        text-align: right;\n",
       "    }\n",
       "</style>\n",
       "<table border=\"1\" class=\"dataframe\">\n",
       "  <thead>\n",
       "    <tr style=\"text-align: right;\">\n",
       "      <th></th>\n",
       "      <th>title</th>\n",
       "      <th>views</th>\n",
       "      <th>video_id</th>\n",
       "      <th>trending_date</th>\n",
       "      <th>channel_title</th>\n",
       "      <th>category_id</th>\n",
       "      <th>publish_time</th>\n",
       "      <th>tags</th>\n",
       "      <th>likes</th>\n",
       "      <th>dislikes</th>\n",
       "      <th>comment_count</th>\n",
       "      <th>thumbnail_link</th>\n",
       "      <th>comments_disabled</th>\n",
       "      <th>ratings_disabled</th>\n",
       "      <th>video_error_or_removed</th>\n",
       "      <th>description</th>\n",
       "      <th>tags_count</th>\n",
       "    </tr>\n",
       "  </thead>\n",
       "  <tbody>\n",
       "    <tr>\n",
       "      <th>4376</th>\n",
       "      <td>Raw: 3 South Carolina Deputies, 1 Officer Shot</td>\n",
       "      <td>748</td>\n",
       "      <td>zeQaJGkFyqQ</td>\n",
       "      <td>18.18.01</td>\n",
       "      <td>Associated Press</td>\n",
       "      <td>25</td>\n",
       "      <td>2018-01-16T12:16:44.000Z</td>\n",
       "      <td>news|\"associated press\"|\"ap\"|\"ap online\"|\"asso...</td>\n",
       "      <td>9</td>\n",
       "      <td>0</td>\n",
       "      <td>0</td>\n",
       "      <td>https://i.ytimg.com/vi/zeQaJGkFyqQ/default.jpg</td>\n",
       "      <td>True</td>\n",
       "      <td>False</td>\n",
       "      <td>False</td>\n",
       "      <td>Three deputies and one police officer were sho...</td>\n",
       "      <td>31</td>\n",
       "    </tr>\n",
       "    <tr>\n",
       "      <th>2513</th>\n",
       "      <td>Huffy Metaloid Bicycle Commercial 1997</td>\n",
       "      <td>773</td>\n",
       "      <td>qg0GdM60syI</td>\n",
       "      <td>17.14.11</td>\n",
       "      <td>90s Commercials</td>\n",
       "      <td>27</td>\n",
       "      <td>2017-03-31T21:46:53.000Z</td>\n",
       "      <td>90s commercials|\"Huffy\"</td>\n",
       "      <td>2</td>\n",
       "      <td>0</td>\n",
       "      <td>0</td>\n",
       "      <td>https://i.ytimg.com/vi/qg0GdM60syI/default.jpg</td>\n",
       "      <td>False</td>\n",
       "      <td>False</td>\n",
       "      <td>False</td>\n",
       "      <td>Anyone have one of those?</td>\n",
       "      <td>2</td>\n",
       "    </tr>\n",
       "    <tr>\n",
       "      <th>5190</th>\n",
       "      <td>The Algorithm That Will Keep You Buying On Cyb...</td>\n",
       "      <td>1381</td>\n",
       "      <td>0devsSCkYRY</td>\n",
       "      <td>17.30.11</td>\n",
       "      <td>NBC News</td>\n",
       "      <td>25</td>\n",
       "      <td>2017-11-27T14:39:25.000Z</td>\n",
       "      <td>nbc news|\"nbc\"|\"news\"|\"news channel\"|\"news sta...</td>\n",
       "      <td>35</td>\n",
       "      <td>6</td>\n",
       "      <td>4</td>\n",
       "      <td>https://i.ytimg.com/vi/0devsSCkYRY/default.jpg</td>\n",
       "      <td>False</td>\n",
       "      <td>False</td>\n",
       "      <td>False</td>\n",
       "      <td>Amazon’s item-to-item collaborative filtering ...</td>\n",
       "      <td>32</td>\n",
       "    </tr>\n",
       "    <tr>\n",
       "      <th>1176</th>\n",
       "      <td>Coach Taggart Monday Presser Ahead of Arizona</td>\n",
       "      <td>1391</td>\n",
       "      <td>-JVITToppE0</td>\n",
       "      <td>17.16.11</td>\n",
       "      <td>GoDucksdotcom</td>\n",
       "      <td>17</td>\n",
       "      <td>2017-11-13T20:41:45.000Z</td>\n",
       "      <td>Oregon|\"Ducks\"|\"college athletics\"|\"college fo...</td>\n",
       "      <td>10</td>\n",
       "      <td>2</td>\n",
       "      <td>5</td>\n",
       "      <td>https://i.ytimg.com/vi/-JVITToppE0/default.jpg</td>\n",
       "      <td>False</td>\n",
       "      <td>False</td>\n",
       "      <td>False</td>\n",
       "      <td>Coach Taggart addresses the media ahead of the...</td>\n",
       "      <td>10</td>\n",
       "    </tr>\n",
       "    <tr>\n",
       "      <th>2377</th>\n",
       "      <td>How Noah Galvin Makes Evan Hansen His Own</td>\n",
       "      <td>1402</td>\n",
       "      <td>OmM425PFd3Y</td>\n",
       "      <td>17.16.12</td>\n",
       "      <td>BUILD Series</td>\n",
       "      <td>24</td>\n",
       "      <td>2017-12-12T22:51:37.000Z</td>\n",
       "      <td>AOL Advertising|\"BUILDseriesNYC\"|\"AOL Inc\"|\"AO...</td>\n",
       "      <td>20</td>\n",
       "      <td>0</td>\n",
       "      <td>0</td>\n",
       "      <td>https://i.ytimg.com/vi/OmM425PFd3Y/default.jpg</td>\n",
       "      <td>False</td>\n",
       "      <td>False</td>\n",
       "      <td>False</td>\n",
       "      <td>Noah Galvin, currently starring as the title r...</td>\n",
       "      <td>29</td>\n",
       "    </tr>\n",
       "    <tr>\n",
       "      <th>...</th>\n",
       "      <td>...</td>\n",
       "      <td>...</td>\n",
       "      <td>...</td>\n",
       "      <td>...</td>\n",
       "      <td>...</td>\n",
       "      <td>...</td>\n",
       "      <td>...</td>\n",
       "      <td>...</td>\n",
       "      <td>...</td>\n",
       "      <td>...</td>\n",
       "      <td>...</td>\n",
       "      <td>...</td>\n",
       "      <td>...</td>\n",
       "      <td>...</td>\n",
       "      <td>...</td>\n",
       "      <td>...</td>\n",
       "      <td>...</td>\n",
       "    </tr>\n",
       "    <tr>\n",
       "      <th>5790</th>\n",
       "      <td>VENOM - Official Trailer (HD)</td>\n",
       "      <td>1003151226</td>\n",
       "      <td>u9Mv98Gr5pY</td>\n",
       "      <td>18.25.04</td>\n",
       "      <td>Sony Pictures Entertainment</td>\n",
       "      <td>24</td>\n",
       "      <td>2018-04-24T03:45:03.000Z</td>\n",
       "      <td>Venom|\"Venom Movie\"|\"Venom (2018)\"|\"Marvel\"|\"M...</td>\n",
       "      <td>850362</td>\n",
       "      <td>26541</td>\n",
       "      <td>96767</td>\n",
       "      <td>https://i.ytimg.com/vi/u9Mv98Gr5pY/default.jpg</td>\n",
       "      <td>False</td>\n",
       "      <td>False</td>\n",
       "      <td>False</td>\n",
       "      <td>We Are #Venom. 10.5.18\\n\\nOne of Marvel's most...</td>\n",
       "      <td>24</td>\n",
       "    </tr>\n",
       "    <tr>\n",
       "      <th>688</th>\n",
       "      <td>Becky G, Natti Natasha - Sin Pijama (Official ...</td>\n",
       "      <td>1182971286</td>\n",
       "      <td>zEf423kYfqk</td>\n",
       "      <td>18.21.04</td>\n",
       "      <td>BeckyGVEVO</td>\n",
       "      <td>10</td>\n",
       "      <td>2018-04-20T10:40:51.000Z</td>\n",
       "      <td>Becky G|\"Natti Natasha\"|\"Natti Natasha Music\"|...</td>\n",
       "      <td>351687</td>\n",
       "      <td>25332</td>\n",
       "      <td>23914</td>\n",
       "      <td>https://i.ytimg.com/vi/zEf423kYfqk/default.jpg</td>\n",
       "      <td>False</td>\n",
       "      <td>False</td>\n",
       "      <td>False</td>\n",
       "      <td>Becky G &amp; Natti Natasha – “Sin Pijama”\\n\\nNUEV...</td>\n",
       "      <td>22</td>\n",
       "    </tr>\n",
       "    <tr>\n",
       "      <th>632</th>\n",
       "      <td>BTS (방탄소년단) 'FAKE LOVE' Official MV</td>\n",
       "      <td>1283188291</td>\n",
       "      <td>7C2z4GqqS5E</td>\n",
       "      <td>18.19.05</td>\n",
       "      <td>ibighit</td>\n",
       "      <td>10</td>\n",
       "      <td>2018-05-18T09:00:02.000Z</td>\n",
       "      <td>BIGHIT|\"빅히트\"|\"방탄소년단\"|\"BTS\"|\"BANGTAN\"|\"방탄\"</td>\n",
       "      <td>3880071</td>\n",
       "      <td>72707</td>\n",
       "      <td>692305</td>\n",
       "      <td>https://i.ytimg.com/vi/7C2z4GqqS5E/default.jpg</td>\n",
       "      <td>False</td>\n",
       "      <td>False</td>\n",
       "      <td>False</td>\n",
       "      <td>BTS (방탄소년단) 'FAKE LOVE' Official MVDirector : ...</td>\n",
       "      <td>6</td>\n",
       "    </tr>\n",
       "    <tr>\n",
       "      <th>543</th>\n",
       "      <td>Ariana Grande - No Tears Left To Cry</td>\n",
       "      <td>1529291326</td>\n",
       "      <td>ffxKSjUwKdU</td>\n",
       "      <td>18.21.04</td>\n",
       "      <td>ArianaGrandeVevo</td>\n",
       "      <td>10</td>\n",
       "      <td>2018-04-20T04:00:03.000Z</td>\n",
       "      <td>Ariana|\"Grande\"|\"No\"|\"Tears\"|\"Left\"|\"To\"|\"Cry\"...</td>\n",
       "      <td>1386616</td>\n",
       "      <td>40714</td>\n",
       "      <td>141630</td>\n",
       "      <td>https://i.ytimg.com/vi/ffxKSjUwKdU/default.jpg</td>\n",
       "      <td>False</td>\n",
       "      <td>False</td>\n",
       "      <td>False</td>\n",
       "      <td>No Tears Left To Cry (Official Video)\\nSong Av...</td>\n",
       "      <td>10</td>\n",
       "    </tr>\n",
       "    <tr>\n",
       "      <th>1102</th>\n",
       "      <td>Childish Gambino - This Is America (Official V...</td>\n",
       "      <td>3758488765</td>\n",
       "      <td>VYOjWnS4cMY</td>\n",
       "      <td>18.08.05</td>\n",
       "      <td>ChildishGambinoVEVO</td>\n",
       "      <td>10</td>\n",
       "      <td>2018-05-06T04:00:07.000Z</td>\n",
       "      <td>Childish Gambino|\"Rap\"|\"This Is America\"|\"mcDJ...</td>\n",
       "      <td>1405355</td>\n",
       "      <td>51547</td>\n",
       "      <td>149473</td>\n",
       "      <td>https://i.ytimg.com/vi/VYOjWnS4cMY/default.jpg</td>\n",
       "      <td>False</td>\n",
       "      <td>False</td>\n",
       "      <td>False</td>\n",
       "      <td>“This is America” by Childish Gambino http://s...</td>\n",
       "      <td>4</td>\n",
       "    </tr>\n",
       "  </tbody>\n",
       "</table>\n",
       "<p>6455 rows × 17 columns</p>\n",
       "</div>"
      ],
      "text/plain": [
       "                                                  title       views  \\\n",
       "4376     Raw: 3 South Carolina Deputies, 1 Officer Shot         748   \n",
       "2513             Huffy Metaloid Bicycle Commercial 1997         773   \n",
       "5190  The Algorithm That Will Keep You Buying On Cyb...        1381   \n",
       "1176      Coach Taggart Monday Presser Ahead of Arizona        1391   \n",
       "2377          How Noah Galvin Makes Evan Hansen His Own        1402   \n",
       "...                                                 ...         ...   \n",
       "5790                      VENOM - Official Trailer (HD)  1003151226   \n",
       "688   Becky G, Natti Natasha - Sin Pijama (Official ...  1182971286   \n",
       "632                 BTS (방탄소년단) 'FAKE LOVE' Official MV  1283188291   \n",
       "543                Ariana Grande - No Tears Left To Cry  1529291326   \n",
       "1102  Childish Gambino - This Is America (Official V...  3758488765   \n",
       "\n",
       "         video_id trending_date                channel_title  category_id  \\\n",
       "4376  zeQaJGkFyqQ      18.18.01             Associated Press           25   \n",
       "2513  qg0GdM60syI      17.14.11              90s Commercials           27   \n",
       "5190  0devsSCkYRY      17.30.11                     NBC News           25   \n",
       "1176  -JVITToppE0      17.16.11                GoDucksdotcom           17   \n",
       "2377  OmM425PFd3Y      17.16.12                 BUILD Series           24   \n",
       "...           ...           ...                          ...          ...   \n",
       "5790  u9Mv98Gr5pY      18.25.04  Sony Pictures Entertainment           24   \n",
       "688   zEf423kYfqk      18.21.04                   BeckyGVEVO           10   \n",
       "632   7C2z4GqqS5E      18.19.05                      ibighit           10   \n",
       "543   ffxKSjUwKdU      18.21.04             ArianaGrandeVevo           10   \n",
       "1102  VYOjWnS4cMY      18.08.05          ChildishGambinoVEVO           10   \n",
       "\n",
       "                  publish_time  \\\n",
       "4376  2018-01-16T12:16:44.000Z   \n",
       "2513  2017-03-31T21:46:53.000Z   \n",
       "5190  2017-11-27T14:39:25.000Z   \n",
       "1176  2017-11-13T20:41:45.000Z   \n",
       "2377  2017-12-12T22:51:37.000Z   \n",
       "...                        ...   \n",
       "5790  2018-04-24T03:45:03.000Z   \n",
       "688   2018-04-20T10:40:51.000Z   \n",
       "632   2018-05-18T09:00:02.000Z   \n",
       "543   2018-04-20T04:00:03.000Z   \n",
       "1102  2018-05-06T04:00:07.000Z   \n",
       "\n",
       "                                                   tags    likes  dislikes  \\\n",
       "4376  news|\"associated press\"|\"ap\"|\"ap online\"|\"asso...        9         0   \n",
       "2513                            90s commercials|\"Huffy\"        2         0   \n",
       "5190  nbc news|\"nbc\"|\"news\"|\"news channel\"|\"news sta...       35         6   \n",
       "1176  Oregon|\"Ducks\"|\"college athletics\"|\"college fo...       10         2   \n",
       "2377  AOL Advertising|\"BUILDseriesNYC\"|\"AOL Inc\"|\"AO...       20         0   \n",
       "...                                                 ...      ...       ...   \n",
       "5790  Venom|\"Venom Movie\"|\"Venom (2018)\"|\"Marvel\"|\"M...   850362     26541   \n",
       "688   Becky G|\"Natti Natasha\"|\"Natti Natasha Music\"|...   351687     25332   \n",
       "632           BIGHIT|\"빅히트\"|\"방탄소년단\"|\"BTS\"|\"BANGTAN\"|\"방탄\"  3880071     72707   \n",
       "543   Ariana|\"Grande\"|\"No\"|\"Tears\"|\"Left\"|\"To\"|\"Cry\"...  1386616     40714   \n",
       "1102  Childish Gambino|\"Rap\"|\"This Is America\"|\"mcDJ...  1405355     51547   \n",
       "\n",
       "      comment_count                                  thumbnail_link  \\\n",
       "4376              0  https://i.ytimg.com/vi/zeQaJGkFyqQ/default.jpg   \n",
       "2513              0  https://i.ytimg.com/vi/qg0GdM60syI/default.jpg   \n",
       "5190              4  https://i.ytimg.com/vi/0devsSCkYRY/default.jpg   \n",
       "1176              5  https://i.ytimg.com/vi/-JVITToppE0/default.jpg   \n",
       "2377              0  https://i.ytimg.com/vi/OmM425PFd3Y/default.jpg   \n",
       "...             ...                                             ...   \n",
       "5790          96767  https://i.ytimg.com/vi/u9Mv98Gr5pY/default.jpg   \n",
       "688           23914  https://i.ytimg.com/vi/zEf423kYfqk/default.jpg   \n",
       "632          692305  https://i.ytimg.com/vi/7C2z4GqqS5E/default.jpg   \n",
       "543          141630  https://i.ytimg.com/vi/ffxKSjUwKdU/default.jpg   \n",
       "1102         149473  https://i.ytimg.com/vi/VYOjWnS4cMY/default.jpg   \n",
       "\n",
       "      comments_disabled  ratings_disabled  video_error_or_removed  \\\n",
       "4376               True             False                   False   \n",
       "2513              False             False                   False   \n",
       "5190              False             False                   False   \n",
       "1176              False             False                   False   \n",
       "2377              False             False                   False   \n",
       "...                 ...               ...                     ...   \n",
       "5790              False             False                   False   \n",
       "688               False             False                   False   \n",
       "632               False             False                   False   \n",
       "543               False             False                   False   \n",
       "1102              False             False                   False   \n",
       "\n",
       "                                            description  tags_count  \n",
       "4376  Three deputies and one police officer were sho...          31  \n",
       "2513                          Anyone have one of those?           2  \n",
       "5190  Amazon’s item-to-item collaborative filtering ...          32  \n",
       "1176  Coach Taggart addresses the media ahead of the...          10  \n",
       "2377  Noah Galvin, currently starring as the title r...          29  \n",
       "...                                                 ...         ...  \n",
       "5790  We Are #Venom. 10.5.18\\n\\nOne of Marvel's most...          24  \n",
       "688   Becky G & Natti Natasha – “Sin Pijama”\\n\\nNUEV...          22  \n",
       "632   BTS (방탄소년단) 'FAKE LOVE' Official MVDirector : ...           6  \n",
       "543   No Tears Left To Cry (Official Video)\\nSong Av...          10  \n",
       "1102  “This is America” by Childish Gambino http://s...           4  \n",
       "\n",
       "[6455 rows x 17 columns]"
      ]
     },
     "execution_count": 131,
     "metadata": {},
     "output_type": "execute_result"
    }
   ],
   "source": [
    "df_merge.sort_values(by='views',ascending=True)"
   ]
  }
 ],
 "metadata": {
  "kernelspec": {
   "display_name": "Python 3 (ipykernel)",
   "language": "python",
   "name": "python3"
  },
  "language_info": {
   "codemirror_mode": {
    "name": "ipython",
    "version": 3
   },
   "file_extension": ".py",
   "mimetype": "text/x-python",
   "name": "python",
   "nbconvert_exporter": "python",
   "pygments_lexer": "ipython3",
   "version": "3.12.2"
  }
 },
 "nbformat": 4,
 "nbformat_minor": 5
}
